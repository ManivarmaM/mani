{
 "cells": [
  {
   "cell_type": "code",
   "execution_count": 1,
   "metadata": {},
   "outputs": [
    {
     "name": "stdout",
     "output_type": "stream",
     "text": [
      "Width of a Rectangle: 4\n",
      "Length of a Rectangle: 6\n",
      "\n",
      " Area of a Rectangle is:24.00\n"
     ]
    }
   ],
   "source": [
    "\n",
    "width=float(input('Width of a Rectangle: '))\n",
    "length=float(input('Length of a Rectangle: '))\n",
    "Area=width*length\n",
    "print(\"\\n Area of a Rectangle is:%.2f\"%Area)"
   ]
  },
  {
   "cell_type": "code",
   "execution_count": null,
   "metadata": {},
   "outputs": [],
   "source": []
  }
 ],
 "metadata": {
  "kernelspec": {
   "display_name": "Python 3",
   "language": "python",
   "name": "python3"
  },
  "language_info": {
   "codemirror_mode": {
    "name": "ipython",
    "version": 3
   },
   "file_extension": ".py",
   "mimetype": "text/x-python",
   "name": "python",
   "nbconvert_exporter": "python",
   "pygments_lexer": "ipython3",
   "version": "3.8.3"
  }
 },
 "nbformat": 4,
 "nbformat_minor": 4
}
